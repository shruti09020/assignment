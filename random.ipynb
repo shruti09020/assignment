import random

Random_int = random.randint(50,100)

print(Random_int)
