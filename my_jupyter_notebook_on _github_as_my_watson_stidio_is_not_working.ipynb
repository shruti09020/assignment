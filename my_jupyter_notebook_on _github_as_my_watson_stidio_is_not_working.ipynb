{
    "cells": [
        {
            "cell_type": "markdown",
            "metadata": {
                "collapsed": true
            },
            "source": "# My Jupyter Notebook on IBM Watson Studio"
        },
        {
            "cell_type": "markdown",
            "metadata": {},
            "source": "**Shruti Singhania**\n"
        },
        {
            "cell_type": "markdown",
            "metadata": {},
            "source": " Data scientist"
        },
        {
            "cell_type": "markdown",
            "metadata": {},
            "source": "*I am interested in data science because i find it interesting. I want to further pursue my career in the same.*"
        },
        {
            "cell_type": "markdown",
            "metadata": {},
            "source": "### The Following Code will generate a random integer between 50 and 100"
        },
        {
            "cell_type": "code",
            "execution_count": 2,
            "metadata": {},
            "outputs": [
                {
                    "name": "stdout",
                    "output_type": "stream",
                    "text": "100\n"
                }
            ],
            "source": "import random\n\nRandom_int = random.randint(50,100)\n\nprint(Random_int)"
        },
        {
            "cell_type": "markdown",
            "metadata": {},
            "source": "Interested technologies:\n***\n1. Data science\n2. IoT\n3. AI- ML/DL\n4. cloud\n***\n[Github](https://www.github.com/shruti09020) https://www.github.com/shruti09020"
        },
        {
            "cell_type": "code",
            "execution_count": null,
            "metadata": {},
            "outputs": [],
            "source": ""
        },
        {
            "cell_type": "code",
            "execution_count": null,
            "metadata": {},
            "outputs": [],
            "source": ""
        }
    ],
    "metadata": {
        "kernelspec": {
            "display_name": "Python 3.7",
            "language": "python",
            "name": "python3"
        },
        "language_info": {
            "codemirror_mode": {
                "name": "ipython",
                "version": 3
            },
            "file_extension": ".py",
            "mimetype": "text/x-python",
            "name": "python",
            "nbconvert_exporter": "python",
            "pygments_lexer": "ipython3",
            "version": "3.7.9"
        }
    },
    "nbformat": 4,
    "nbformat_minor": 1
}
